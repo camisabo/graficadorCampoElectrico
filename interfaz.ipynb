{
 "cells": [
  {
   "cell_type": "markdown",
   "metadata": {},
   "source": [
    "# Inerfaz "
   ]
  },
  {
   "cell_type": "markdown",
   "metadata": {},
   "source": [
    "## pruebas"
   ]
  },
  {
   "cell_type": "code",
   "execution_count": 7,
   "metadata": {},
   "outputs": [
    {
     "name": "stdout",
     "output_type": "stream",
     "text": [
      "1\n",
      "(-1, -1, 1.414)\n",
      "[(62.254, 62.254, -88.027)]\n"
     ]
    },
    {
     "data": {
      "image/png": "[encoded data removed]",
      "text/plain": [
       "<Figure size 432x288 with 1 Axes>"
      ]
     },
     "metadata": {
      "needs_background": "light"
     },
     "output_type": "display_data"
    },
    {
     "name": "stdout",
     "output_type": "stream",
     "text": [
      "hola\n"
     ]
    }
   ],
   "source": [
    "from clasePunto import Punto\n",
    "from claseCarga import Carga\n",
    "from claseGraficador import Graficador\n",
    "j = Punto(1,1)\n",
    "j2 = Punto(1,-1)\n",
    "j3 = Punto(-1,1)\n",
    "j4 = Punto(-1,-1)\n",
    "c= Carga(0,0,1)\n",
    "g = Graficador()\n",
    "j.guardarFuerza(c)\n",
    "j2.guardarFuerza(c)\n",
    "j3.guardarFuerza(c)\n",
    "j4.guardarFuerza(c)\n",
    "print(j.cordenadaX)\n",
    "print(j.distanciaACarga(c))\n",
    "print(j.fuerzasSobreElPunto)\n",
    "g.vectores((j,j2,j3,j4), 200)\n",
    "print(\"hola\")\n",
    "#print(j.calcularFuerzaEje(\"y\",c))"
   ]
  },
  {
   "cell_type": "markdown",
   "metadata": {},
   "source": [
    "## codigo imagen 1"
   ]
  },
  {
   "cell_type": "code",
   "execution_count": null,
   "metadata": {},
   "outputs": [],
   "source": []
  }
 ],
 "metadata": {
  "kernelspec": {
   "display_name": "Python 3",
   "language": "python",
   "name": "python3"
  },
  "language_info": {
   "codemirror_mode": {
    "name": "ipython",
    "version": 3
   },
   "file_extension": ".py",
   "mimetype": "text/x-python",
   "name": "python",
   "nbconvert_exporter": "python",
   "pygments_lexer": "ipython3",
   "version": "3.8.10"
  }
 },
 "nbformat": 4,
 "nbformat_minor": 2
}
