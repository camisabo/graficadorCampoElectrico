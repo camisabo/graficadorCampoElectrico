{
 "cells": [
  {
   "cell_type": "markdown",
   "metadata": {},
   "source": [
    "# Inerfaz "
   ]
  },
  {
   "cell_type": "markdown",
   "metadata": {},
   "source": [
    "## pruebas"
   ]
  },
  {
   "cell_type": "code",
   "execution_count": 2,
   "metadata": {},
   "outputs": [
    {
     "name": "stdout",
     "output_type": "stream",
     "text": [
      "1\n",
      "(3, 3, 4.243)\n",
      "[(29.328, 29.328, 41.48), (29.328, 29.328, 41.48)]\n"
     ]
    }
   ],
   "source": [
    "from clasePunto import Punto\n",
    "from claseCarga import Carga\n",
    "j = Punto(1,1)\n",
    "c= Carga(4,4,2)\n",
    "j.guardarFuerza(c)\n",
    "print(j.cordenadaX)\n",
    "print(j.distanciaACarga(c))\n",
    "print(j.fuerzasSobreElPunto)\n",
    "#print(j.calcularFuerzaEje(\"y\",c))"
   ]
  }
 ],
 "metadata": {
  "kernelspec": {
   "display_name": "Python 3",
   "language": "python",
   "name": "python3"
  },
  "language_info": {
   "codemirror_mode": {
    "name": "ipython",
    "version": 3
   },
   "file_extension": ".py",
   "mimetype": "text/x-python",
   "name": "python",
   "nbconvert_exporter": "python",
   "pygments_lexer": "ipython3",
   "version": "3.8.10"
  }
 },
 "nbformat": 4,
 "nbformat_minor": 2
}
